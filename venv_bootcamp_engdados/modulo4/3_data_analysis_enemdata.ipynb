{
 "cells": [
  {
   "cell_type": "markdown",
   "source": [
    "# Tratamento de dados do ENEM 2020"
   ],
   "metadata": {}
  },
  {
   "cell_type": "code",
   "execution_count": 1,
   "source": [
    "#import libraries \r\n",
    "import pandas as pd\r\n",
    "import numpy as np "
   ],
   "outputs": [],
   "metadata": {}
  },
  {
   "cell_type": "code",
   "execution_count": 3,
   "source": [
    "FILENAME = \"./filtered_df_enem2020_mg.csv\"\r\n",
    "\r\n",
    "df = pd.read_csv(FILENAME)\r\n",
    "df.head()"
   ],
   "outputs": [
    {
     "output_type": "execute_result",
     "data": {
      "text/html": [
       "<div>\n",
       "<style scoped>\n",
       "    .dataframe tbody tr th:only-of-type {\n",
       "        vertical-align: middle;\n",
       "    }\n",
       "\n",
       "    .dataframe tbody tr th {\n",
       "        vertical-align: top;\n",
       "    }\n",
       "\n",
       "    .dataframe thead th {\n",
       "        text-align: right;\n",
       "    }\n",
       "</style>\n",
       "<table border=\"1\" class=\"dataframe\">\n",
       "  <thead>\n",
       "    <tr style=\"text-align: right;\">\n",
       "      <th></th>\n",
       "      <th>NU_INSCRICAO</th>\n",
       "      <th>NU_ANO</th>\n",
       "      <th>TP_FAIXA_ETARIA</th>\n",
       "      <th>TP_SEXO</th>\n",
       "      <th>TP_ESTADO_CIVIL</th>\n",
       "      <th>TP_COR_RACA</th>\n",
       "      <th>TP_NACIONALIDADE</th>\n",
       "      <th>TP_ST_CONCLUSAO</th>\n",
       "      <th>TP_ANO_CONCLUIU</th>\n",
       "      <th>TP_ESCOLA</th>\n",
       "      <th>...</th>\n",
       "      <th>Q016</th>\n",
       "      <th>Q017</th>\n",
       "      <th>Q018</th>\n",
       "      <th>Q019</th>\n",
       "      <th>Q020</th>\n",
       "      <th>Q021</th>\n",
       "      <th>Q022</th>\n",
       "      <th>Q023</th>\n",
       "      <th>Q024</th>\n",
       "      <th>Q025</th>\n",
       "    </tr>\n",
       "  </thead>\n",
       "  <tbody>\n",
       "    <tr>\n",
       "      <th>0</th>\n",
       "      <td>200001634757</td>\n",
       "      <td>2020</td>\n",
       "      <td>4</td>\n",
       "      <td>F</td>\n",
       "      <td>1</td>\n",
       "      <td>Parda</td>\n",
       "      <td>2</td>\n",
       "      <td>1</td>\n",
       "      <td>1</td>\n",
       "      <td>Não respondeu</td>\n",
       "      <td>...</td>\n",
       "      <td>A</td>\n",
       "      <td>A</td>\n",
       "      <td>A</td>\n",
       "      <td>B</td>\n",
       "      <td>A</td>\n",
       "      <td>B</td>\n",
       "      <td>B</td>\n",
       "      <td>A</td>\n",
       "      <td>A</td>\n",
       "      <td>B</td>\n",
       "    </tr>\n",
       "    <tr>\n",
       "      <th>1</th>\n",
       "      <td>200003315528</td>\n",
       "      <td>2020</td>\n",
       "      <td>7</td>\n",
       "      <td>F</td>\n",
       "      <td>1</td>\n",
       "      <td>Preto</td>\n",
       "      <td>1</td>\n",
       "      <td>1</td>\n",
       "      <td>0</td>\n",
       "      <td>Não respondeu</td>\n",
       "      <td>...</td>\n",
       "      <td>NaN</td>\n",
       "      <td>NaN</td>\n",
       "      <td>NaN</td>\n",
       "      <td>NaN</td>\n",
       "      <td>NaN</td>\n",
       "      <td>NaN</td>\n",
       "      <td>NaN</td>\n",
       "      <td>NaN</td>\n",
       "      <td>NaN</td>\n",
       "      <td>NaN</td>\n",
       "    </tr>\n",
       "    <tr>\n",
       "      <th>2</th>\n",
       "      <td>200005105757</td>\n",
       "      <td>2020</td>\n",
       "      <td>3</td>\n",
       "      <td>F</td>\n",
       "      <td>1</td>\n",
       "      <td>Parda</td>\n",
       "      <td>1</td>\n",
       "      <td>1</td>\n",
       "      <td>1</td>\n",
       "      <td>Não respondeu</td>\n",
       "      <td>...</td>\n",
       "      <td>B</td>\n",
       "      <td>A</td>\n",
       "      <td>A</td>\n",
       "      <td>C</td>\n",
       "      <td>A</td>\n",
       "      <td>B</td>\n",
       "      <td>D</td>\n",
       "      <td>A</td>\n",
       "      <td>A</td>\n",
       "      <td>B</td>\n",
       "    </tr>\n",
       "    <tr>\n",
       "      <th>3</th>\n",
       "      <td>200006140756</td>\n",
       "      <td>2020</td>\n",
       "      <td>12</td>\n",
       "      <td>F</td>\n",
       "      <td>0</td>\n",
       "      <td>Parda</td>\n",
       "      <td>1</td>\n",
       "      <td>4</td>\n",
       "      <td>0</td>\n",
       "      <td>Não respondeu</td>\n",
       "      <td>...</td>\n",
       "      <td>A</td>\n",
       "      <td>A</td>\n",
       "      <td>A</td>\n",
       "      <td>B</td>\n",
       "      <td>A</td>\n",
       "      <td>A</td>\n",
       "      <td>B</td>\n",
       "      <td>A</td>\n",
       "      <td>A</td>\n",
       "      <td>B</td>\n",
       "    </tr>\n",
       "    <tr>\n",
       "      <th>4</th>\n",
       "      <td>200003852394</td>\n",
       "      <td>2020</td>\n",
       "      <td>11</td>\n",
       "      <td>F</td>\n",
       "      <td>1</td>\n",
       "      <td>Parda</td>\n",
       "      <td>1</td>\n",
       "      <td>1</td>\n",
       "      <td>9</td>\n",
       "      <td>Não respondeu</td>\n",
       "      <td>...</td>\n",
       "      <td>A</td>\n",
       "      <td>A</td>\n",
       "      <td>A</td>\n",
       "      <td>B</td>\n",
       "      <td>A</td>\n",
       "      <td>A</td>\n",
       "      <td>C</td>\n",
       "      <td>A</td>\n",
       "      <td>A</td>\n",
       "      <td>B</td>\n",
       "    </tr>\n",
       "  </tbody>\n",
       "</table>\n",
       "<p>5 rows × 76 columns</p>\n",
       "</div>"
      ],
      "text/plain": [
       "   NU_INSCRICAO  NU_ANO  TP_FAIXA_ETARIA TP_SEXO  TP_ESTADO_CIVIL TP_COR_RACA   \n",
       "0  200001634757    2020                4       F                1       Parda  \\\n",
       "1  200003315528    2020                7       F                1       Preto   \n",
       "2  200005105757    2020                3       F                1       Parda   \n",
       "3  200006140756    2020               12       F                0       Parda   \n",
       "4  200003852394    2020               11       F                1       Parda   \n",
       "\n",
       "   TP_NACIONALIDADE  TP_ST_CONCLUSAO  TP_ANO_CONCLUIU      TP_ESCOLA  ...   \n",
       "0                 2                1                1  Não respondeu  ...  \\\n",
       "1                 1                1                0  Não respondeu  ...   \n",
       "2                 1                1                1  Não respondeu  ...   \n",
       "3                 1                4                0  Não respondeu  ...   \n",
       "4                 1                1                9  Não respondeu  ...   \n",
       "\n",
       "   Q016  Q017  Q018 Q019  Q020 Q021  Q022  Q023  Q024  Q025  \n",
       "0     A     A     A    B     A    B     B     A     A     B  \n",
       "1   NaN   NaN   NaN  NaN   NaN  NaN   NaN   NaN   NaN   NaN  \n",
       "2     B     A     A    C     A    B     D     A     A     B  \n",
       "3     A     A     A    B     A    A     B     A     A     B  \n",
       "4     A     A     A    B     A    A     C     A     A     B  \n",
       "\n",
       "[5 rows x 76 columns]"
      ]
     },
     "metadata": {},
     "execution_count": 3
    }
   ],
   "metadata": {}
  },
  {
   "cell_type": "markdown",
   "source": [
    "## 1 - Qual é a média da nota em matemática dos alunos que estudaram numa escola em Minas Gerais?"
   ],
   "metadata": {}
  },
  {
   "cell_type": "code",
   "execution_count": 22,
   "source": [
    "df[df.loc[:,\"SG_UF_ESC\"]==\"MG\"][\"NU_NOTA_MT\"].describe()"
   ],
   "outputs": [
    {
     "output_type": "execute_result",
     "data": {
      "text/plain": [
       "count    46598.000000\n",
       "mean       579.889433\n",
       "std        124.666465\n",
       "min          0.000000\n",
       "25%        482.625000\n",
       "50%        583.300000\n",
       "75%        666.500000\n",
       "max        975.000000\n",
       "Name: NU_NOTA_MT, dtype: float64"
      ]
     },
     "metadata": {},
     "execution_count": 22
    }
   ],
   "metadata": {}
  },
  {
   "cell_type": "markdown",
   "source": [
    "## 2- Qual é a média da nota em Linguagens e Códigos dos alunos que estudaram numa escola em Minas Gerais?"
   ],
   "metadata": {}
  },
  {
   "cell_type": "code",
   "execution_count": 23,
   "source": [
    "df[df.loc[:,\"SG_UF_ESC\"]==\"MG\"][\"NU_NOTA_LC\"].describe()"
   ],
   "outputs": [
    {
     "output_type": "execute_result",
     "data": {
      "text/plain": [
       "count    48154.000000\n",
       "mean       553.163550\n",
       "std         69.178909\n",
       "min          0.000000\n",
       "25%        513.925000\n",
       "50%        560.400000\n",
       "75%        601.300000\n",
       "max        759.600000\n",
       "Name: NU_NOTA_LC, dtype: float64"
      ]
     },
     "metadata": {},
     "execution_count": 23
    }
   ],
   "metadata": {}
  },
  {
   "cell_type": "markdown",
   "source": [
    "## 3 - Qual é a média da nota em Ciências Humanas dos alunos do sexo FEMININO que estudaram numa escola em Minas Gerais?"
   ],
   "metadata": {}
  },
  {
   "cell_type": "code",
   "execution_count": 24,
   "source": [
    "df[(df.loc[:,\"TP_SEXO\"]==\"F\")&(df.loc[:,\"SG_UF_ESC\"]==\"MG\")][\"NU_NOTA_CH\"].describe()"
   ],
   "outputs": [
    {
     "output_type": "execute_result",
     "data": {
      "text/plain": [
       "count    27064.000000\n",
       "mean       541.502860\n",
       "std         95.054325\n",
       "min          0.000000\n",
       "25%        471.100000\n",
       "50%        546.800000\n",
       "75%        613.600000\n",
       "max        862.600000\n",
       "Name: NU_NOTA_CH, dtype: float64"
      ]
     },
     "metadata": {},
     "execution_count": 24
    }
   ],
   "metadata": {}
  },
  {
   "cell_type": "markdown",
   "source": [
    "## 4 - Qual é a média da nota em Ciências Humanas dos alunos do sexo MASCULINO que estudaram numa escola em Minas Gerais?"
   ],
   "metadata": {}
  },
  {
   "cell_type": "code",
   "execution_count": 25,
   "source": [
    "df[(df.loc[:,\"TP_SEXO\"]==\"M\")&(df.loc[:,\"SG_UF_ESC\"]==\"MG\")][\"NU_NOTA_CH\"].describe()"
   ],
   "outputs": [
    {
     "output_type": "execute_result",
     "data": {
      "text/plain": [
       "count    21090.000000\n",
       "mean       559.639768\n",
       "std         94.897892\n",
       "min          0.000000\n",
       "25%        498.200000\n",
       "50%        569.500000\n",
       "75%        627.900000\n",
       "max        844.000000\n",
       "Name: NU_NOTA_CH, dtype: float64"
      ]
     },
     "metadata": {},
     "execution_count": 25
    }
   ],
   "metadata": {}
  },
  {
   "cell_type": "markdown",
   "source": [
    "## 5 - Qual é a média da nota em Matemática dos alunos do sexo FEMININO que estudaram numa escola na cidade de Montes Claros?"
   ],
   "metadata": {}
  },
  {
   "cell_type": "code",
   "execution_count": 19,
   "source": [
    "df[(df.loc[:,\"TP_SEXO\"]==\"F\")&(df.loc[:,\"NO_MUNICIPIO_ESC\"]==\"Montes Claros\")][\"NU_NOTA_MT\"].describe()"
   ],
   "outputs": [
    {
     "output_type": "execute_result",
     "data": {
      "text/plain": [
       "count    836.000000\n",
       "mean     563.317584\n",
       "std      120.224027\n",
       "min      329.200000\n",
       "25%      470.325000\n",
       "50%      569.200000\n",
       "75%      647.800000\n",
       "max      922.200000\n",
       "Name: NU_NOTA_MT, dtype: float64"
      ]
     },
     "metadata": {},
     "execution_count": 19
    }
   ],
   "metadata": {}
  },
  {
   "cell_type": "markdown",
   "source": [
    "## 6 - Qual é a média da nota em Matemática dos alunos que estudaram numa escola no município de Sabará e que possuem TV por assinatura na residência?"
   ],
   "metadata": {}
  },
  {
   "cell_type": "code",
   "execution_count": 20,
   "source": [
    "df[(df.loc[:,\"Q021\"]==\"B\")&(df.loc[:,\"NO_MUNICIPIO_ESC\"]==\"Sabará\")][\"NU_NOTA_MT\"].describe()"
   ],
   "outputs": [
    {
     "output_type": "execute_result",
     "data": {
      "text/plain": [
       "count     67.000000\n",
       "mean     580.102985\n",
       "std      121.578984\n",
       "min      360.900000\n",
       "25%      491.800000\n",
       "50%      597.300000\n",
       "75%      672.100000\n",
       "max      803.900000\n",
       "Name: NU_NOTA_MT, dtype: float64"
      ]
     },
     "metadata": {},
     "execution_count": 20
    }
   ],
   "metadata": {}
  },
  {
   "cell_type": "markdown",
   "source": [
    "## 7 - Qual é a média da nota em Ciências Humanas dos alunos que estudaram numa escola em Minas Gerais e que possuem dois fornos micro-ondas em casa?"
   ],
   "metadata": {}
  },
  {
   "cell_type": "code",
   "execution_count": 26,
   "source": [
    "df[(df.loc[:,\"Q016\"]==\"C\")&(df.loc[:,\"SG_UF_ESC\"]==\"MG\")][\"NU_NOTA_CH\"].describe()"
   ],
   "outputs": [
    {
     "output_type": "execute_result",
     "data": {
      "text/plain": [
       "count    392.000000\n",
       "mean     601.019898\n",
       "std       92.702572\n",
       "min      343.600000\n",
       "25%      553.800000\n",
       "50%      612.850000\n",
       "75%      669.200000\n",
       "max      794.000000\n",
       "Name: NU_NOTA_CH, dtype: float64"
      ]
     },
     "metadata": {},
     "execution_count": 26
    }
   ],
   "metadata": {}
  },
  {
   "cell_type": "markdown",
   "source": [
    "## 8 - Qual é a nota média em Matemática dos alunos que estudaram numa escola em Minas Gerais e cuja mãe completou a pós-graduação?"
   ],
   "metadata": {}
  },
  {
   "cell_type": "code",
   "execution_count": 27,
   "source": [
    "df[(df.loc[:,\"Q002\"]==\"G\")&(df.loc[:,\"SG_UF_ESC\"]==\"MG\")][\"NU_NOTA_MT\"].describe()"
   ],
   "outputs": [
    {
     "output_type": "execute_result",
     "data": {
      "text/plain": [
       "count    8418.000000\n",
       "mean      642.414718\n",
       "std       122.760205\n",
       "min       328.200000\n",
       "25%       561.400000\n",
       "50%       649.000000\n",
       "75%       726.600000\n",
       "max       975.000000\n",
       "Name: NU_NOTA_MT, dtype: float64"
      ]
     },
     "metadata": {},
     "execution_count": 27
    }
   ],
   "metadata": {}
  },
  {
   "cell_type": "markdown",
   "source": [
    "## 9 - Qual é a nota média em Matemática dos alunos que estudaram numa escola em Belo Horizonte ou em Conselheiro Lafaiete?"
   ],
   "metadata": {}
  },
  {
   "cell_type": "code",
   "execution_count": 28,
   "source": [
    "df[(df.loc[:,\"NO_MUNICIPIO_ESC\"]==\"Conselheiro Lafaiete\")|(df.loc[:,\"NO_MUNICIPIO_ESC\"]==\"Belo Horizonte\")][\"NU_NOTA_MT\"].describe()"
   ],
   "outputs": [
    {
     "output_type": "execute_result",
     "data": {
      "text/plain": [
       "count    8725.000000\n",
       "mean      620.980046\n",
       "std       132.623470\n",
       "min         0.000000\n",
       "25%       523.900000\n",
       "50%       626.400000\n",
       "75%       713.300000\n",
       "max       975.000000\n",
       "Name: NU_NOTA_MT, dtype: float64"
      ]
     },
     "metadata": {},
     "execution_count": 28
    }
   ],
   "metadata": {}
  },
  {
   "cell_type": "markdown",
   "source": [
    "## 10 - Qual é a nota média em Ciências Humanas dos alunos que estudaram numa escola em Minas Gerais e que moram sozinhos?"
   ],
   "metadata": {}
  },
  {
   "cell_type": "code",
   "execution_count": 29,
   "source": [
    "df[(df.loc[:,\"Q005\"]==1)&(df.loc[:,\"SG_UF_ESC\"]==\"MG\")][\"NU_NOTA_CH\"].describe()"
   ],
   "outputs": [
    {
     "output_type": "execute_result",
     "data": {
      "text/plain": [
       "count    154.000000\n",
       "mean     535.496104\n",
       "std      115.644436\n",
       "min        0.000000\n",
       "25%      438.975000\n",
       "50%      541.700000\n",
       "75%      617.675000\n",
       "max      758.200000\n",
       "Name: NU_NOTA_CH, dtype: float64"
      ]
     },
     "metadata": {},
     "execution_count": 29
    }
   ],
   "metadata": {}
  },
  {
   "cell_type": "markdown",
   "source": [
    "## 11- Qual é a nota média em Ciências Humanas dos alunos que estudaram numa escola em Minas Gerais, cujo pai completou pós-graduação e possuem renda familiar entre R$ 8.360,01 e R$ 9.405,00?"
   ],
   "metadata": {}
  },
  {
   "cell_type": "code",
   "execution_count": 30,
   "source": [
    "df[(df.loc[:,\"Q001\"]==\"G\")&(df.loc[:,\"Q006\"]==\"L\")&(df.loc[:,\"SG_UF_ESC\"]==\"MG\")][\"NU_NOTA_CH\"].describe()"
   ],
   "outputs": [
    {
     "output_type": "execute_result",
     "data": {
      "text/plain": [
       "count    211.000000\n",
       "mean     624.191943\n",
       "std       86.331322\n",
       "min        0.000000\n",
       "25%      584.900000\n",
       "50%      637.700000\n",
       "75%      682.200000\n",
       "max      769.900000\n",
       "Name: NU_NOTA_CH, dtype: float64"
      ]
     },
     "metadata": {},
     "execution_count": 30
    }
   ],
   "metadata": {}
  },
  {
   "cell_type": "markdown",
   "source": [
    "## 12 - Qual é a nota média em Matemática dos alunos do sexo Feminino que estudaram numa escola em Lavras e escolheram “Espanhol” como língua estrangeira?"
   ],
   "metadata": {}
  },
  {
   "cell_type": "code",
   "execution_count": 51,
   "source": [
    "df[(df.loc[:,\"TP_LINGUA\"]==\"Espanhol\")&(df.loc[:,\"NO_MUNICIPIO_ESC\"]==\"Lavras\")&(df.loc[:,\"TP_SEXO\"]==\"F\")][\"NU_NOTA_MT\"].describe()"
   ],
   "outputs": [
    {
     "output_type": "execute_result",
     "data": {
      "text/plain": [
       "count     96.000000\n",
       "mean     513.383333\n",
       "std      105.603841\n",
       "min      341.400000\n",
       "25%      425.875000\n",
       "50%      505.600000\n",
       "75%      593.675000\n",
       "max      746.100000\n",
       "Name: NU_NOTA_MT, dtype: float64"
      ]
     },
     "metadata": {},
     "execution_count": 51
    }
   ],
   "metadata": {}
  },
  {
   "cell_type": "markdown",
   "source": [
    "## 13 - Qual é a nota média em Matemática dos alunos do sexo Masculino que estudaram numa escola em Ouro Preto?"
   ],
   "metadata": {}
  },
  {
   "cell_type": "code",
   "execution_count": 32,
   "source": [
    "df[(df.loc[:,\"TP_SEXO\"]==\"M\")&(df.loc[:,\"NO_MUNICIPIO_ESC\"]==\"Ouro Preto\")][\"NU_NOTA_MT\"].describe()"
   ],
   "outputs": [
    {
     "output_type": "execute_result",
     "data": {
      "text/plain": [
       "count    136.000000\n",
       "mean     615.582353\n",
       "std       98.424854\n",
       "min      379.100000\n",
       "25%      543.175000\n",
       "50%      628.400000\n",
       "75%      686.100000\n",
       "max      821.000000\n",
       "Name: NU_NOTA_MT, dtype: float64"
      ]
     },
     "metadata": {},
     "execution_count": 32
    }
   ],
   "metadata": {}
  },
  {
   "cell_type": "markdown",
   "source": [
    "## 14 - Qual é a nota média em Ciências Humanas dos alunos que estudaram numa escola em Minas Gerais e possuem entre 26 e 30 anos?"
   ],
   "metadata": {}
  },
  {
   "cell_type": "code",
   "execution_count": 33,
   "source": [
    "df[(df.loc[:,\"TP_FAIXA_ETARIA\"]==11)&(df.loc[:,\"SG_UF_ESC\"]==\"MG\")][\"NU_NOTA_CH\"].describe()"
   ],
   "outputs": [
    {
     "output_type": "execute_result",
     "data": {
      "text/plain": [
       "count     76.000000\n",
       "mean     474.428947\n",
       "std       71.719829\n",
       "min      344.900000\n",
       "25%      420.650000\n",
       "50%      468.100000\n",
       "75%      526.025000\n",
       "max      654.500000\n",
       "Name: NU_NOTA_CH, dtype: float64"
      ]
     },
     "metadata": {},
     "execution_count": 33
    }
   ],
   "metadata": {}
  },
  {
   "cell_type": "markdown",
   "source": [
    "## 15 - Qual é a nota média em Matemática dos alunos do sexo FEMININO, que estudaram numa escola em Belo Horizonte, Sabará, Nova Lima ou Betim e estudaram em uma escola privada?"
   ],
   "metadata": {}
  },
  {
   "cell_type": "code",
   "execution_count": 53,
   "source": [
    "filter_escs_mun = df[df[\"NO_MUNICIPIO_ESC\"].isin([\"Belo Horizonte\", \"Sabará\", \"Nova Lima\", \"Betim\"])]\r\n",
    "filter_escs_mun[(filter_escs_mun.loc[:,\"TP_ESCOLA\"]==\"Privada\")&(filter_escs_mun.loc[:,\"TP_SEXO\"]==\"F\")][\"NU_NOTA_MT\"].describe()\r\n"
   ],
   "outputs": [
    {
     "output_type": "execute_result",
     "data": {
      "text/plain": [
       "count    2083.000000\n",
       "mean      679.149064\n",
       "std       112.688395\n",
       "min       334.000000\n",
       "25%       605.800000\n",
       "50%       682.300000\n",
       "75%       759.050000\n",
       "max       975.000000\n",
       "Name: NU_NOTA_MT, dtype: float64"
      ]
     },
     "metadata": {},
     "execution_count": 53
    }
   ],
   "metadata": {}
  }
 ],
 "metadata": {
  "orig_nbformat": 4,
  "language_info": {
   "name": "python",
   "version": "3.10.2",
   "mimetype": "text/x-python",
   "codemirror_mode": {
    "name": "ipython",
    "version": 3
   },
   "pygments_lexer": "ipython3",
   "nbconvert_exporter": "python",
   "file_extension": ".py"
  },
  "kernelspec": {
   "name": "python3",
   "display_name": "Python 3.10.2 64-bit ('venv_bootcamp_engdados': venv)"
  },
  "interpreter": {
   "hash": "4b1ad7918a36818f1a97747311058344b9ffa06d3c006d0ba45e6b55a06d230b"
  }
 },
 "nbformat": 4,
 "nbformat_minor": 2
}